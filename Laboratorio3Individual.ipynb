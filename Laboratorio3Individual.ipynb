{
  "nbformat": 4,
  "nbformat_minor": 0,
  "metadata": {
    "colab": {
      "provenance": [],
      "include_colab_link": true
    },
    "kernelspec": {
      "name": "python3",
      "display_name": "Python 3"
    },
    "language_info": {
      "name": "python"
    }
  },
  "cells": [
    {
      "cell_type": "markdown",
      "metadata": {
        "id": "view-in-github",
        "colab_type": "text"
      },
      "source": [
        "<a href=\"https://colab.research.google.com/github/danidb29/Laboratorios-AnalisisDatos/blob/main/Laboratorio3Individual.ipynb\" target=\"_parent\"><img src=\"https://colab.research.google.com/assets/colab-badge.svg\" alt=\"Open In Colab\"/></a>"
      ]
    },
    {
      "cell_type": "code",
      "execution_count": null,
      "metadata": {
        "colab": {
          "base_uri": "https://localhost:8080/"
        },
        "id": "EY344Ft_kwcD",
        "outputId": "559c0e4f-47df-47e3-b137-75901194868c"
      },
      "outputs": [
        {
          "output_type": "execute_result",
          "data": {
            "text/plain": [
              "Series\n",
              "Percentage of male and female intentional homicide victims, Female    1.697260\n",
              "Percentage of male and female intentional homicide victims, Male      8.908108\n",
              "Name: Value, dtype: float64"
            ]
          },
          "metadata": {},
          "execution_count": 47
        }
      ],
      "source": [
        "import pandas as pd\n",
        "import matplotlib.pyplot as plt\n",
        "df=pd.read_csv('/content/CSVInvestigation.csv')\n",
        "data=pd.DataFrame(df)\n",
        "\n",
        "#Busquedas por tipo de dato\n",
        "data = data.astype({\"Value\":float})\n",
        "#Busqueda por filtro\n",
        "dataFiltered2018 = data.loc[(data['Year'] == 2018)]\n",
        "\n",
        "#5 paises con mayor indice de crimininalidad\n",
        "dataFiltered = data.loc[(data[\"Series\"] == \"Intentional homicide rates per 100,000\")]\n",
        "dataFiltered.sort_values(by=['Value'], ascending=False)[['Country', 'Value']].head(5)\n",
        "\n",
        "#5 paises con menor indice de crimininalidad\n",
        "dataFiltered = data.loc[(data[\"Series\"] == \"Intentional homicide rates per 100,000\")]\n",
        "dataFiltered.sort_values(by=['Value'])[['Country', 'Value']].head(5)\n",
        "\n",
        "#El crimen mas repetido por pais en 2018\n",
        "dataFiltered2018['Series'].value_counts()\n",
        "\n",
        "\n",
        "#Crimen con el porcentaje mas alto en CR en 2005\n",
        "dataFilteredCR = data.loc[(data['Year'] == 2005) & (data['Country'] == 'Costa Rica')]\n",
        "dataFilteredCR.sort_values(by=['Value'], ascending=False)[['Country', 'Series', 'Value']]\n",
        "\n",
        "#Comparativa entre CR, Nicaragua y Panama por medio de la tasa\n",
        "registro = data.loc[(data['Country'] == 'Costa Rica') | (data['Country'] == 'Panama') | (data['Country'] == 'Nicaragua')]\n",
        "registro\n",
        "\n",
        "#Annio con mas crimenes\n",
        "registro = data['Year']\n",
        "annio = registro.mode()\n",
        "annio\n",
        "\n",
        "\n",
        "\n",
        "#Genero mas afectado en Crimenes en promedio en el anio 2018\n",
        "dataGenero = dataFiltered2018.loc[(dataFiltered2018['Series'].str.contains('victims, Female')) | (dataFiltered2018['Series'].str.contains('victims, Male'))].groupby('Series')['Value']\n",
        "dataGenero.mean()\n",
        "\n",
        "\n"
      ]
    }
  ]
}