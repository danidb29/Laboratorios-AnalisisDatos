{
  "nbformat": 4,
  "nbformat_minor": 0,
  "metadata": {
    "colab": {
      "provenance": [],
      "include_colab_link": true
    },
    "kernelspec": {
      "name": "python3",
      "display_name": "Python 3"
    },
    "language_info": {
      "name": "python"
    }
  },
  "cells": [
    {
      "cell_type": "markdown",
      "metadata": {
        "id": "view-in-github",
        "colab_type": "text"
      },
      "source": [
        "<a href=\"https://colab.research.google.com/github/danidb29/Laboratorios-AnalisisDatos/blob/main/Laboratorio1.ipynb\" target=\"_parent\"><img src=\"https://colab.research.google.com/assets/colab-badge.svg\" alt=\"Open In Colab\"/></a>"
      ]
    },
    {
      "cell_type": "code",
      "execution_count": null,
      "metadata": {
        "colab": {
          "base_uri": "https://localhost:8080/"
        },
        "id": "ai0hpyq3y3Hd",
        "outputId": "d02b8ad3-7e9f-407b-b94e-ec58066bc2ce"
      },
      "outputs": [
        {
          "output_type": "stream",
          "name": "stdout",
          "text": [
            "Estudiantes\n",
            "Daniel Delgado Bernini\n",
            "Abraham Quesada Mora\n",
            "Adrian Solis Matamoros\n",
            "Andres Carvajal Lopez\n",
            "Promedio elementos del vector\n",
            "Ingrese cantidad de Temperaturas\n",
            "10\n",
            "Ingrese la temperatura: 10\n",
            "Ingrese la temperatura: 11.5\n",
            "Ingrese la temperatura: 28.3\n",
            "Ingrese la temperatura: 5\n",
            "Ingrese la temperatura: 6.3\n",
            "Ingrese la temperatura: 40\n",
            "Ingrese la temperatura: 20\n",
            "Ingrese la temperatura: 7\n",
            "Ingrese la temperatura: 32.6\n",
            "Ingrese la temperatura: 11.5\n",
            "17.22\n",
            "Moda\n",
            "11.5\n",
            "En este caso el valor que mas se repite es el 11.5, se repite dos veces por lo cual es la moda de conjuntos de datos\n",
            "Mediana\n",
            "11.5\n",
            "En este caso el algoritmo ordena las temperaturas de mayor a menor y saca el dato en la posicion media, es decir que la mitad de los datos totales es menor a 11.5 y la otra mitad es mayor o igual a 11.5\n",
            "Desviacion Estandar\n",
            "12.367322534270167\n",
            "La desviacion estandar en este conjunto de datos corresoponde a 12.37 lo cual nos indica que la tendencia de variar de los datos es por encima o por debajo de los 12.37 grados aproximadamente\n",
            "Varianza\n",
            "152.95066666666668\n",
            "La varianza en este conjunto de datos corresoponde a 152.95066 lo cual nos indica que los datos estan bastante dispersos entre si, o sea que estan bastante alejados con respecto a la media\n"
          ]
        }
      ],
      "source": [
        "\n",
        "import statistics as st\n",
        "#Estudiantes\n",
        "#Daniel Delgado Bernini\n",
        "#Abraham Quesada Mora\n",
        "#Adrian Solis Matamoros\n",
        "#Andres Carvajal Lopez\n",
        "\n",
        "print(\"Estudiantes\")\n",
        "print(\"Daniel Delgado Bernini\")\n",
        "print(\"Abraham Quesada Mora\")\n",
        "print(\"Adrian Solis Matamoros\")\n",
        "print(\"Andres Carvajal Lopez\")\n",
        "\n",
        "print(\"Promedio elementos del vector\")\n",
        "temp = []\n",
        "print(\"Ingrese cantidad de Temperaturas\")\n",
        "n = int(input())\n",
        "suma = 0\n",
        "\n",
        "for i in range(n):\n",
        "  temperatura = float(input(\"Ingrese la temperatura: \"))\n",
        "  temp.append(temperatura)\n",
        "  suma =  suma + temp[i]\n",
        "media = suma/n\n",
        "print(media)\n",
        "\n",
        "#Moda\n",
        "print(\"Moda\")\n",
        "moda = st.mode(temp)\n",
        "print(moda)\n",
        "print(\"En este caso el valor que mas se repite es el 11.5, se repite dos veces por lo cual es la moda de conjuntos de datos\")\n",
        "#Mediana\n",
        "print(\"Mediana\")\n",
        "mediana = st.median(temp)\n",
        "print(mediana)\n",
        "print(\"En este caso el algoritmo ordena las temperaturas de mayor a menor y saca el dato en la posicion media, es decir que la mitad de los datos totales es menor a 11.5 y la otra mitad es mayor o igual a 11.5\")\n",
        "#Desviacion Estandar\n",
        "print(\"Desviacion Estandar\")\n",
        "desviacion = st.stdev(temp)\n",
        "print(desviacion)\n",
        "print(\"La desviacion estandar en este conjunto de datos corresoponde a 12.37 lo cual nos indica que la tendencia de variar de los datos es por encima o por debajo de los 12.37 grados aproximadamente\")\n",
        "#Varianza\n",
        "print(\"Varianza\")\n",
        "varianza = st.variance(temp)\n",
        "print(varianza)\n",
        "print(\"La varianza en este conjunto de datos corresoponde a 152.95066 lo cual nos indica que los datos estan bastante dispersos entre si, o sea que estan bastante alejados con respecto a la media\")\n"
      ]
    },
    {
      "cell_type": "code",
      "source": [],
      "metadata": {
        "id": "HBpb0D5wvGJl"
      },
      "execution_count": null,
      "outputs": []
    },
    {
      "cell_type": "markdown",
      "source": [
        "![image.png](data:image/png;base64,iVBORw0KGgoAAAANSUhEUgAAAQ0AAAC3CAYAAAAINAuvAAAAAXNSR0IArs4c6QAAAARnQU1BAACxjwv8YQUAAAAJcEhZcwAADsMAAA7DAcdvqGQAABkZSURBVHhe7Z1PiBzF+8bn97tJMPgvFwUlohIQRPGgImIO4kGMJIIH9SC7KnhQIyiKgiw5ZTUexD9gSDR7MUIED2o8SA6KhMSDGCKCGFEQ9CJG8RC97Xc/nXkm79b0zHTN1m5mep8PFL3dXVNdXVX91lvdVc/+3+ISnQF8+OGHnaNHj3Z2797dueCCC3rHXnjhhc59993XO/711193Pvjgg2XxjDHt5P+728ZceeWVnRtvvLEzNzfXMxC//vpr5/LLL7fBMGYdkG00rrvuumq7b9++avvXX39VXsadd95Z7Rtj2k3f8OTff//tvPjii52PP/64e+QscTiCoXj00Uc7J06cqM5hNG655Zbqb2NMuxn6TsMYY1KyhyfGmPWNjYYxJgsbDWNMFjYaxpgsbDSMMVnYaBhjsrDR6MLck/vvv79z9dVXd+64447OTz/91D1jjIn0GQ0mdz3zzDPVwxMDa07azMUXX9z56KOPOt98803n2muv7R4th8qVdTptAuM6OztbGd1pg7zTQbz66qvdI+egntT23Yksp89oMOPz9ddf73z//ffVLNBXXnml8/PPP3ceeOCBbgxjph86wbfeequzdevW7pFzYCDm5+c7n3/+edX2n3766c7zzz8/lYZxNcgenlBw6jGxwFhi9ulJBRUiK60ga86W8zFO7H3jMIGQejixB6g7H9MlnZIVHdPO6X245+uvv76amv/ggw/20oh5H5Rv7vfll1+uyphrfvbZZ9VWZd6kPmKZpfnmHPG/++673u9jz5vWh87p+N1339354osvOjfffHNf+txTTIvj0SvJbQsxLcGx3HomH3/88UfVOV544YXdo+fA47zttts611xzTbV/1113Vdsff/yx2q57mEZex5kzZxZ37ty5eOjQoe6Rs5w+fXpxx44dVeBv7R8/frw6f+rUqcXt27dXW1jyVKp0SE/7mzdvrrZA+jqfXjNNm/2ZmZle2inEU74gpt2UQddg//Dhw929/LR1b7qXyLB8c47yYkuZEW+p0ffyqDLS79MyJE6sj/RaSl/H0vgLCwu9uLoWvxHEIy+KEyEPqmdI4w5rCzDq2qAyqbt+E/h9zGNaT9onnyrT9c5YL0IvuuiiysLzHoBw6623Vsvj4dtvv+1cddVVnSuuuKLaZ/Ur5/77779qHxj2PPXUU9XfN910U+eff/6pzv/222+V5b/33nurc6RNz/zll19W+/D3339X16iDeGh98DughyBt0l0p9Dr33HNPd295vlfKqHxTXjfccEP1N+VxySWXVH+LWB8ML2+//fbOL7/8Up2jrB566KFer0k6yBvEXpO60u/5m/r7888/q3OPPPJIL19sY12XYFBbgCbXZtiAZ6B4JaFM8BApzyXD0ivT9U7xryc0SF4mqsHzQFDZsVKpBGlv0Jjfe++96jwN9f33368qSi4pD5MgDhX5xhtvVOeiW4o7/vvvvy9z/3GZl3q36vxK0YtMpY1bjgFbKauVb9IkbRo6Zai0NUyKcD0Zeb3T0qrlOLQhvPPOO9XxUgxqC7Da1x4G9bHkXfTe51GO7JtVMBqXXnppteWhoqKX3LzO448/Xh1rAj0PL2GpLAV6E0HD+uqrr6rjVCxL9ON4lmX68bfEVS+7Et58881qq7zxkowevhSl8x1FkeglY9qEJlIGjP2fe+65ZXl74oknumdXl/N1bcqMsuNaevkvw06HaFbBaOAq8rZZFZ3jOiLwg/v56aefdo8MJ1YilS03MuelWA56EGlEvHnP8TTUGONQC0rnm4cNT0yiSGzZ5/g4XHbZZb2OgJ4/7e05RzkMekkoj4d7w/jnlNmoawOeZ+6L0FFQZlxLL2VPnjxZtUsJUK13+owGFYwbLjdWrm180z8MKlDDB4WmlYpxeffdd6veJf5elZe6q/REGosDPQPeh97kE9IvCYNQ2vyWrwF4SvFLAPfwySefVHEoGyQPcz0NPC48L+VNZbqSfAMPojw7tq+99lrPk2DLvs4TmtYHng5fEfRb6uXhhx/unj0LZU8b0fAqlpneTVFeeJCPPfZY4zJrcu1x4d4pA9LFOBD4m7YElBnX0z1h0GmXTTu/tlNchIeCZ+wX53WoMuIww5SBB+DZZ5/tvPTSS0WGYcaMoujwhJ4RdzRCo6Z39UskY9pBUaPB+PzJJ59cNjzB5cbNi56HMWZ6sUaoMSaL4l9PjDHtxkbDGJOFjYYxJgsbjS7x2326EtQYc44+o6HJXfr6odB0cte0wsQdi/Dkg3GdbaEID2jJfm6dkV58dtrWCfUZDT6bWoTHtB0MwiARHhl4NDeY+TsOcc1MqfVPk0L28IQeRT0mFhRLmk55loWOQdacLedjnGjJ4zCBQLyIpnsPOh/TbTpduikx7Zzeg3vWtHxNTSbEvA/KN/drEZ7l145wLLeeyccwER7WPlFPBFMD8zTqSMVchMRQJHySiqMgtGIRnn50b7qXyLB8c47yYkuZEW+p0VuEp4vKpO76TeD3MY+RQdccBenl/maaGOtFqEV4LMJTikFtAc63CM9KGORRtoHiX08swpPHauVbS9ItwrP2YMj0PoNngfcbbTIcxY2GRXjGo3S+LcIzGWAA6TTbRHGjYRGeevidRXimQ4SnCfI80xfLKeQbHRaGXm2hz2ioMOTGyrVt6l5RgRbhqcciPNMhwhPbwokTJ3r3pnY4jJg2gc6A56iEtzspWIRnyqGRWoTHrCVFhyf0jBbhMabdFDUajM8twmNMu7EIjzEmi+JfT4wx7cZGwxiThY2GMSYLGw1jTBY2Gl3ipJxRs/yMWc/0GQ3NCNUnU4W2rdRLYWajlbvywbjOTqFyV5xdXNdJ0N7Haf/p89PGDqjPaDDXwspdps1g4JiWTgdB22atFLOVZfgwKEePHl22OPHgwYONHn49P1p7xRT+mHYbyB6ecPPqMbGiWNN0nURqpQmaSs6W8zFO7H1JP87dTy187CHqzsd0m66xaEpMO6cH4Z61lkfrGAgx74Pyzf1auWv5tSMcy61nvEoebK1ZYjEZ05WkIcKiybhKmEVzipsLvy25GnoSGOudBoWqhThYa/b5d/xAw8AqY52xtCxnjkIrwAIndB44TzpYfRo5YdeuXdWDxTlpEagh0TD27t3bS5sQPSDixR6EdEgvPkDjwn1t2LChd116J1a6NkmbnkaeG/lL8z4q32iMcGzbtm2d/fv3dxYWFpaJ9MT64DqglcLke35+vldmdT0fv5ubm6u2xDt27FjvwecYiwj5LfljSQD51XCO+OhsKu+5S/oHtQUYdO3VBiPC4kQZ9X379nU2btzY0xzJARGkLVu2jG10JpGxjEZUiiJYuWtlWLnr/Cl3YaAw/qyoVRmxxRgyRMHDATwTeR6jiB4SSyr4u02MZTSGYeWuPFYr31buaobElaInjJdF/VIneG6UZc4QiPxjyPCQKGsM21p4SGtFcaMh0RTpIFi5qxml823lrtHQAdE+GZpFL4IHnqEgZcTx3bt3V53hkSNHujGagwEp7Z2db4obDQrcyl398Dsrd02OcpcMBu9M6tqn8g14zXjPsb1xDs8zfbGcwjneETH0agt9RkOFITdWrq1eCo2CCoxL4wlNK5XKs3JXXr6BB1GeHVsrdw2H/FGXqHLFMqctgYYqGianZToMypXyVZozMzOdPXv2FPF2JwUrd005NFIrd5m1pOjwhJ4Rty5Co6Z3tXKXMe2gqNFgfG7lLmPajZW7jDFZFP96YoxpNzYaxpgsbDSMMVnYaHSJ39dHTdgxZj3TZzQ0uUtfPxSaTu6aVpikxOxVZv5ZhKc5GNfZKRThYe5QbN/uKJrTZzT4bGoRHrMeiOtaSq1RWg9kD0/oUdRjYp2x0umU5yiqoqBZoWw5H+PE3jcOEwiph5NOJU/Px3SbTpduSkw7p2finjUtX9OtCTHvg/LN/VqEZ/m1IxwrXc9mBMzTqOPMmTOLO3fuXDx06FD3yFlOnz69uGPHjirwt/aPHz9enT916tTi9u3bqy0seSpVOqSn/c2bN1dbIH2dT6+Zps3+zMxML+0U4ilfENNuyqBrsH/48OHuXn7aujfdS2RYvjlHebGlzIi39PD18qgy0u/TMiROrI/0Wkpfx9L4CwsLvbi6Fr8RxCMvihMhD6pnSOMOawsw6tqgMqm7/jD4XZqWacZYL0ItwmMRnlIMaguw2iI8g7w+M5ziX08swpPHauVbS7stwlMPxkbvM2ivvN+w4WhGcaNhEZ7xKJ1vi/A0ByNFx2aaUdxoWISnHn5nEZ7JEeGJkDb6Gm0SyllN+oyG3HC5sXJtm7puVKBFeOqxCM9kiPBw75SBygODTVsv4ZGuByzCM+XwAFiEx6wlRYcn9IwW4TGm3RQ1GozPLcJjTLuxCI8xJoviX0+MMe3GRsMYk4WNhjEmCxsNY0wWNhpd4oSfdPm4MeYcfUZDM0L1yVSh7Yt5mNlo5a58MK6zU6jcBeRdGiI5HUU6M1mTF9cLfUaDuRZW7jJthwd/Zmamc+DAgap95ywQZGq+1lbxnDChcT2tkM0entCjqMeUlU7XSVCA0RJHa8yW8zFO7H3jMIGQVkZq5dPzMd2mayyaEtPO6Zm4Z63l0RoNQsz7oHxzv1buWn7tCMdy65myYVEkBmOlU++1EHFdweSuOlIFKCEFJaklpYpKqDNZuasf3ZvuJTIs35yjvNhSZsRbevis3NVFZVJ3/UEoH2+//XZ1fUJOXUa4bl17aTNjvQi1cpeVu0oxqC3Aail3cW94R5s2beoNMUCaKU2Qd4SHtWXLlnW1WLD41xMrd+WxWvmWjoWVu+rBWKlz4vqUv8qsCbzj03uNJU+lb0jYZoobDSt3jUfpfFu5azC00VJeIpT0OqeB4kbDyl318Dsrd02Gchde1caNGztHjhyp9skfxil6PUDadHzx5WwdtHGGKE3b+bTTZzQoQFwtubFybRnDNYEKtHJXPVbumgzlLgzD3Nxcr52RPwxG02kF8WsPAdaTwJSVu6YcHn4rd5m1pOjwhJ4RdzRCo6Z3xZAYY6afokYDt8/KXca0Gyt3GWOyKP71xBjTbmw0jDFZ2GgYY7Kw0ejCVx7mL/DyNl0Jaow5R5/R0OQuff1QaDq5a1phkpJFePLBuM5OqQgPaFKf5hKJOJHQnchy+owGn00twmPWAxi6vXv39s00xUDMz89X64to+yyLYGLitBrG0mQPTyg49ZhYYCxxOuU5nWZLkCVny/kYJ/a+cZhASD2c2APUnY/pNp0u3ZSYdk7vwz1rWr6mWxNi3gflm/u1CM/ya0c4Nm4979u3r1ozItkBgcfJFHbNsEWqAAatr1l3ME+jjlTMRUgMRcInqTgKYiQW4elH96Z7iQzLN+coL7aUGfGWHr5eHlVG+n1ahsSxCE8/sRxiPtN60j75VJmud8Z6EWoRHovwlGJQW4DVEuHBC2OxWizzOigTLWZbMiq9Ml3vFP96YhGePFYr31qSbhGefpBeQKZgmKYI9bHkXfTe51GO7JtVMBoW4RmP0vm2CE89GNKjR49WBkjGCKPKPu9j6OwoO66ll/8y7FG/ZT1T3GjgKlqEpx9+ZxGe8y/CQ3njSal9Eih7jIQMNWXGtfRS9uTJk1W7pH2aGqNBBeOGy42Vaxvf9A+DCrQITz0W4ZkMEZ5RUGZcT/eEUaFdNu382o5FeKYcHn6L8Ji1pOjwhJ4RdzRCo6Z39UskY9pBUaPBeNEiPMa0G4vwGGOyKP71xBjTbmw0jDFZ2GgYY7Kw0ejCVx7mL6RzDYwxy+kzGprcpa8fCk0nd00rTNyxCE8+GNfZKRThiRMF6zqJUefXM31GQ9NsLcJj2goGjhmfdBC07VRkBwNhEZ7BZA9PKDj1mFhgLHE65TmKqihoVihbzsc4sfclfQ0TCKmHE3uAuvMx3abTpZsS087pfbhnTcvX1GRCzPugfHO/FuFZfu0Ix3LrGa+SjlHTwlmSz8wDyQFYhGcEzNOoIxVzERJDkYBJKo6C0IpFePrRveleIsPyzTnKiy1lRrylh88iPF1UJnXXb0q857SetE8+VabrnbFehFqExyI8pRjUFmC1RHgieGSsWI6ehaBM8BC1CtkiPGcp/vXEIjx5rFa+tSTdIjzDkU6KDJegPpa8i977PIvwnKO40bAIz3iUzrdFeEZDB0T7nJub65UVW4vwDKe40bAITz1qjBbhOb8iPEIGo04nwyI8w+kzGlQwbrjcWLm28U3/MKhAi/DUYxGeyRDhIX/U5YkTJ5aVOW0JLMIzHIvwTDk8/BbhMWtJ0eEJPSPuaIRGTe/ql0jGtIOiRoPxuUV4jGk3FuExxmRR/OuJMabd2GgYY7Kw0TDGZGGjYYzJwkajC5+GmfTEF590+bgx5hx9RkMzQvXJVKHpjNBphdl+Vu7KB+M6O2XKXenMYgVNQjTD6TMazLWwcpdpM0wT19oogtq6JyA2I3t4Qo+iHlNKT+k6iajElFpxtpyPcWLvG4cJhNTDSXuJ9HxMt+kai6bEtHOGMNyz1vJoPQMh5n1QvrlfK3ctv3aEYyutZ2Qc0PGQQpcZAZO76kgVoIQUlKSWlCoqRRUkWPJUlqkxsb9k0WvVmtJrpmmzb+UuK3dFVCZ1128Kaai8zGjGehFq5S4rd5ViUFuAtVDuwvv54Ycf7GVkUPzriZW78litfEvHwspdw8HgbNmyZWyjsx4pbjSs3DUepfNt5a7RcI1jx45VnY9pTnGjYeWuevidlbsmR7kLaJt1gsJmOH1GQ2643Fi5tvFN/zCoQCt31WPlrslQ7gLqm/qkLEweVu6acnj4rdxl1pKiwxN6Rit3GdNuihoNxudW7jKm3Vi5yxiTRfGvJ8aYdmOjYYzJwkbDGJOFjUYXvvLwzT6da2CMWU6f0dDkLn39UGg6uWtaYZISMwQtwpMHxnV2ykR40jZe10kwt0jncybaCdIj3UHpTzN9RoPPphbhMW1GbVxLHZgxy8RDGT4Zds7xHIDWHjWB38/MzHQOHDhQpVFq/dOkkD08oWDVY8qSppY4iqooaFYoW87HOLH3jcMEQurhEFfn6s7HdJtOl25KTDun9+CeNS1f060JMe+D8s39WoRn+bUjHFtpPbO+JU5vZ+q9Zi9rbZDW0IyCOKydwmC0dYbuWO80WFSGB8JDgDvPPv+OH2gYBw8erFaBYmVZmRg1E4C1CizZ5jzpsK6Awibs2rWrerA4R9qcU0OiYezdu7eXNiF6QMQjPr/jHOmQXpPKHgX3tWHDht51WZTHorUmadMA5bmRvzTvo/KNXADHtm3b1tm/f39nYWFhmd5GrA/1jFr0R77n5+d7ZZb2qsDv5ubmqi3xWPmpB59jrAfit+SP2b3kV8M54m/durWX99xedVBbgEHXLg2aI6WWx1MnBMpFxi414tPOWEYjir4QLMKzMizCs/YiPNGLYQYzf9eB8eQ85U7ZjoJyw/PatGlTZezGGd5MOmMZjWFYhCeP1cq33GmL8NTDNTA2PNiUB8Yn9WJoWxzHq2yiPyIwhOr4uDfqtunwZhoobjQswjMepfNtEZ7mYEBSL4Y2RdvieM5HANp/KQ90UiluNLDeFuHph99ZhGeyRHgEZcN7HIZHEA1G7LAi3BOeZ/piGY9t48aNnSNHjlT7xMPwRY9q2ukzGioMubFybeOb/mFQgRo+KDStVIyLRXjy8g08iPLs2FqEZzjcO2Wg8uDz6J49e3qeHQ/8iRMnKiOlOAS1w2FgGHiprDbMvWMwcryVScciPFMOD4BFeMxaUnR4Qs+IOxqhUVuEx5j2UNRo4JpZhMeYdmMRHmNMFsW/nhhj2o2NhjEmCxsNY0wWNhpd4rf7dMKOMeYcfUZDk7v09UOh6eSuaYVJSsxeZd2MRXiag3GdnTIRHkHe6SA0jyhFS/Zz64z04rPTtk6oz2jw2dQiPKbtYBBYCsCy/hQZ+D/++KOa+TsOzAjVUgqL8Cz1KOoxsaBY0nTKsyx0DLLmbDkf40RLHocJBOJFiKtzdedjuk2nSzclpp3Te3DPmpav6daEmPdB+eZ+LcKz/NoRjuXWM/nAINA5IsWQwton6olgamCeRh1nzpxZ3Llz5+KhQ4e6R85y+vTpxR07dlSBv7V//Pjx6vypU6cWt2/fXm1hyVOp0iE97W/evLnaAunrfHrNNG32Z2ZmemmnEE/5gph2UwZdg/3Dhw939/LT1r3pXiLD8s05yostZUa8pUbfy6PKSL9Py5A4sT7Sayl9HUvjLyws9OLqWvxGEI+8KE6EPKieIY07rC3AqGuDyqTu+k3g9zGPkUHXHAXp5f5mmhjrRahFeCzCU4pBbQFWU4RntRnkUbaB4l9PLMKTx2rlW0vSLcKz9mDI9D6DZ4H3G20yHMWNhkV4xqN0vi3CMxlgAOk020Rxo2ERnnr4nUV4JlOEZxzkeaYvllPINzosEvhpA31GQ4UhN1aubVP3igq0CE89FuGZPBEeDBGBv2lLENsCYjy6N7XDYcS0CXQGPEclvN1JwSI8Uw6N1CI8Zi0pOjyhZ7QIjzHtpqjRYHxuER5j2o1FeIwxWRT/emKMaTc2GsaYDDqd/wGJ4jCWWn102QAAAABJRU5ErkJggg==)\n",
        "\n",
        "Datos de temperatura utilizados en el ejercicio:"
      ],
      "metadata": {
        "id": "ijeZ3gxp2LhB"
      }
    }
  ]
}